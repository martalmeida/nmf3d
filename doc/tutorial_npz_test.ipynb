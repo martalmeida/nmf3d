{
 "cells": [
  {
   "cell_type": "markdown",
   "metadata": {},
   "source": [
    "# NMF 3D"
   ]
  },
  {
   "cell_type": "markdown",
   "metadata": {},
   "source": [
    "### Tridimensional Normal Mode Functions\n",
    "\n",
    "This notebook tests the usage of npz (output of vse and hvf and input/output of enlk) instead of netcdf"
   ]
  },
  {
   "cell_type": "markdown",
   "metadata": {},
   "source": [
    "#### 1. the vertical structure equation"
   ]
  },
  {
   "cell_type": "code",
   "execution_count": 1,
   "metadata": {},
   "outputs": [
    {
     "name": "stdout",
     "output_type": "stream",
     "text": [
      "saving out_vs_nleg57_ws0False.npz\n",
      "saving out_vs_nleg57_ws0True.npz\n",
      "['Gn', 'hk', 'ws0']\n"
     ]
    }
   ],
   "source": [
    "import nmf3d\n",
    "import numpy as np\n",
    "f=nmf3d.datafolder+'/T_ERA_I_1979_2010.txt'\n",
    "T,Lev=np.loadtxt(f)\n",
    "\n",
    "# ws0 False:\n",
    "Gn0,hk0,vfile0=nmf3d.vertical_structure.vse(T,Lev,format='npz')\n",
    "\n",
    "# ws0 True:\n",
    "Gn1,hk1,vfile1=nmf3d.vertical_structure.vse(T,Lev,ws0=True,format='npz')\n",
    "\n",
    "a=np.load(vfile1)\n",
    "print(a.keys())"
   ]
  },
  {
   "cell_type": "markdown",
   "metadata": {},
   "source": [
    "#### 2. the Hough vector functions"
   ]
  },
  {
   "cell_type": "code",
   "execution_count": 2,
   "metadata": {},
   "outputs": [
    {
     "name": "stdout",
     "output_type": "stream",
     "text": [
      "- HVF baroclinic -\n",
      "Part I\n",
      "  - Matrix C\n",
      "  - Matrix D\n",
      "  - Matrix E\n",
      "  - Matrix F\n",
      "  - Coeffs An, Bn, Cn\n",
      "  - Normalized Associated Legendre Functions - M=0\n",
      "  - Normalized Associated Legendre Functions - M=1\n",
      "  - HVF: gravity modes\n",
      "  - HVF: rossby modes\n",
      "End of part I (zonal wave number zero)\n",
      "Part II\n",
      "  1 of 6\n",
      "  - Matrix A\n",
      "  - Matrix B\n",
      "  - selecting freqs and coeffs\n",
      "  - Associated Legendre Functions\n",
      "  - spherical vector harmonics\n",
      "  - HVF: gravity\n",
      "  - HVF: rossby\n",
      "  2 of 6\n",
      "  3 of 6\n",
      "  4 of 6\n",
      "  5 of 6\n",
      "  6 of 6\n",
      "End of part II (zonal wave numbers m>0)\n",
      "saving out_hvf_M6_nLR8_nLG12_NEH5_dlat6linear_ws0False.npz\n",
      "- HVF baroclinic -\n",
      "Part I\n",
      "  - Matrix C\n",
      "  - Matrix D\n",
      "  - Matrix E\n",
      "  - Matrix F\n",
      "  - Coeffs An, Bn, Cn\n",
      "  - Normalized Associated Legendre Functions - M=0\n",
      "  - Normalized Associated Legendre Functions - M=1\n",
      "  - HVF: gravity modes\n",
      "  - HVF: rossby modes\n",
      "End of part I (zonal wave number zero)\n",
      "Part II\n",
      "  1 of 6\n",
      "  - Matrix A\n",
      "  - Matrix B\n",
      "  - selecting freqs and coeffs\n",
      "  - Associated Legendre Functions\n",
      "  - spherical vector harmonics\n",
      "  - HVF: gravity\n",
      "  - HVF: rossby\n",
      "  2 of 6\n",
      "  3 of 6\n",
      "  4 of 6\n",
      "  5 of 6\n",
      "  6 of 6\n",
      "End of part II (zonal wave numbers m>0)\n",
      "saving out_hvf_M6_nLR8_nLG12_NEH4_dlat6linear_baroclinic.npz\n",
      "- HVF barotropic -\n",
      "Part I\n",
      "End of part I (zonal wave number zero)\n",
      "Part II\n",
      "End of part II (zonal wave numbers m>0)\n",
      "saving out_hvf_M6_nLR8_nLG12_NEH1_dlat6linear_barotropic.npz\n",
      "contents of out_hvf_M6_nLR8_nLG12_NEH5_dlat6linear_ws0False.npz\n",
      "['HOUGH_UVZ', 'HOUGH_0_UVZ', 'WEST_G_sy', 'WEST_G_asy', 'WEST_R_sy', 'WEST_R_asy', 'EAST_G_sy', 'EAST_G_asy', 'WEST_G_0_sy', 'WEST_G_0_asy', 'WEST_R_0_sy', 'WEST_R_0_asy', 'EAST_G_0_sy', 'EAST_G_0_asy']\n",
      "contents of out_hvf_M6_nLR8_nLG12_NEH4_dlat6linear_baroclinic.npz\n",
      "['HOUGH_UVZ', 'HOUGH_0_UVZ', 'WEST_G_sy', 'WEST_G_asy', 'WEST_R_sy', 'WEST_R_asy', 'EAST_G_sy', 'EAST_G_asy', 'WEST_G_0_sy', 'WEST_G_0_asy', 'WEST_R_0_sy', 'WEST_R_0_asy', 'EAST_G_0_sy', 'EAST_G_0_asy']\n",
      "contents of out_hvf_M6_nLR8_nLG12_NEH1_dlat6linear_barotropic.npz\n",
      "['HOUGH_UVZ', 'HOUGH_0_UVZ', 'SIGMAS', 'HOUGH_UVZ_2rec', 'HOUGH_0_UVZ_2rec']\n"
     ]
    }
   ],
   "source": [
    "nk=5 # number of function to keep\n",
    "\n",
    "# ws0 False:\n",
    "out0=nmf3d.hough_functions.hvf(hk0[:nk],M=6,nLR=8,nLG=6,dlat=6,format='npz')\n",
    "hfile=out0[-1]\n",
    "\n",
    "# ws0 True:\n",
    "out1=nmf3d.hough_functions.hvf(hk1[:nk],M=6,nLR=8,nLG=6,dlat=6,format='npz')\n",
    "hfile_bB=out1[-2:]\n",
    "\n",
    "for f in (hfile,)+hfile_bB:\n",
    "  print('contents of %s'%f)\n",
    "  a=np.load(f)\n",
    "  print(a.keys())"
   ]
  },
  {
   "cell_type": "markdown",
   "metadata": {},
   "source": [
    "#### 3. 3d spectrum of total energy E_nlk"
   ]
  },
  {
   "cell_type": "code",
   "execution_count": 3,
   "metadata": {},
   "outputs": [
    {
     "name": "stdout",
     "output_type": "stream",
     "text": [
      "loading u : /home/mma/software/miniconda3/lib/python3.6/site-packages/nmf3d/data/u_01_1979_.nc\n",
      "    - loading var131\n",
      "loading v : /home/mma/software/miniconda3/lib/python3.6/site-packages/nmf3d/data/v_01_1979_.nc\n",
      "    - loading var132\n",
      "loading z : /home/mma/software/miniconda3/lib/python3.6/site-packages/nmf3d/data/Z_01_1979_.nc\n",
      "    - loading var129\n",
      "    - subtracting reference\n"
     ]
    }
   ],
   "source": [
    "fu=nmf3d.datafolder+'/u_01_1979_.nc'\n",
    "fv=nmf3d.datafolder+'/v_01_1979_.nc'\n",
    "fz=nmf3d.datafolder+'/Z_01_1979_.nc'\n",
    "fref=nmf3d.datafolder+'/PHI_raw.txt'\n",
    "data=nmf3d.enlk.load_ERA_I(fu,fv,fz,fref,height=False)"
   ]
  },
  {
   "cell_type": "code",
   "execution_count": 6,
   "metadata": {
    "scrolled": true
   },
   "outputs": [
    {
     "name": "stdout",
     "output_type": "stream",
     "text": [
      " - loading parameters from Hough functions file:\n",
      "    out_hvf_M6_nLR8_nLG12_NEH5_dlat6linear_ws0False.npz\n",
      " - loading vertical structure functions:\n",
      "    out_vs_nleg57_ws0False.npz\n",
      " - zonal wind - interpolate p to sigma\n",
      " - zonal wind - vertical transform\n",
      " - zonal wind - Fourier transform\n",
      " - meridional wind - interpolate p to sigma\n",
      " - meridional wind - vertical transform\n",
      " - meridional wind - Fourier transform\n",
      " - geopotential - interpolate p to sigma\n",
      " - geopotential - vertical transform\n",
      " - geopotential - Fourier transform\n",
      " - loading Hough vector functions\n",
      " - computing\n",
      "saving out_enlk.npz\n"
     ]
    }
   ],
   "source": [
    "# ws0 False\n",
    "w_nlk,w_0lk,fsave=nmf3d.enlk.project(vfile0,hfile,data,format='npz')"
   ]
  },
  {
   "cell_type": "code",
   "execution_count": 10,
   "metadata": {},
   "outputs": [
    {
     "name": "stdout",
     "output_type": "stream",
     "text": [
      " - loading parameters from Hough functions file:\n",
      "    out_hvf_M6_nLR8_nLG12_NEH4_dlat6linear_baroclinic.npz\n",
      " - loading vertical structure functions:\n",
      "    out_vs_nleg57_ws0True.npz\n",
      " - zonal wind - interpolate p to sigma\n",
      " - zonal wind - vertical transform\n",
      " - zonal wind - Fourier transform\n",
      " - meridional wind - interpolate p to sigma\n",
      " - meridional wind - vertical transform\n",
      " - meridional wind - Fourier transform\n",
      " - geopotential - interpolate p to sigma\n",
      " - geopotential - vertical transform\n",
      " - geopotential - Fourier transform\n",
      " - loading Hough vector functions\n",
      "   (out_hvf_M6_nLR8_nLG12_NEH4_dlat6linear_baroclinic.npz)\n",
      "   (out_hvf_M6_nLR8_nLG12_NEH1_dlat6linear_barotropic.npz)\n",
      " - computing\n",
      "saving out_ws0True_enlk.npz\n",
      "['w_nlk', 'w_0lk']\n"
     ]
    }
   ],
   "source": [
    "# ws0 True\n",
    "w_nlk,w_0lk,fsave=nmf3d.enlk.project(vfile1,hfile_bB,data,label='out_ws0True',format='npz')\n",
    "print(np.load(fsave).keys())"
   ]
  }
 ],
 "metadata": {
  "kernelspec": {
   "display_name": "Python 3",
   "language": "python",
   "name": "python3"
  },
  "language_info": {
   "codemirror_mode": {
    "name": "ipython",
    "version": 3
   },
   "file_extension": ".py",
   "mimetype": "text/x-python",
   "name": "python",
   "nbconvert_exporter": "python",
   "pygments_lexer": "ipython3",
   "version": "3.6.1"
  }
 },
 "nbformat": 4,
 "nbformat_minor": 2
}
