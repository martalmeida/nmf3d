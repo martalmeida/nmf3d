{
 "cells": [
  {
   "cell_type": "markdown",
   "metadata": {},
   "source": [
    "# NMF3D\n",
    "\n",
    "### Tridimensional Normal Mode Functions\n",
    "\n",
    "##### About the software:\n",
    " - NMF3D includes a Python and a Matlab version\n",
    " - works with both Python 2 and 3\n",
    " - for the Python version, Numpy and Scipy are required; netCDF4 is recommended\n",
    "\n",
    "##### References:\n",
    "- A. Kasahara (1976). Normal modes of ultralong waves in the atmosphere, Mon. Weather Rev., 104(6), 669-690.\n",
    "<br><a href='https://doi.org/10.1175/1520-0493(1976)104%3C0669:NMOUWI%3E2.0.CO;2'          target=\"_blank\">http://dx.doi/10.1175/1520-0493(1976)104&lt;0669:NMOUWI&gt;2.0.CO;2</a>\n",
    "\n",
    "\n",
    "- A. Kasahara (1978). Further Studies on a Spectral Model of the Global Barotropic Primitive Equations with Hough Harmonic Expansions, J. Atmos. Sci., 35(11), 2043-2051.\n",
    "<br><a href='https://doi.org/10.1175/1520-0469(1978)035%3C2043:FSOASM%3E2.0.CO;2' target='_blank'>https://doi.org/10.1175/1520-0469(1978)035&lt;2043:FSOASM&gt;2.0.CO;2</a>\n",
    "    \n",
    "\n",
    "- Y. Shigehisa (1983). Normal Modes of the Shallow Water Equations for Zonal Wavenumber Zero, J. Meteorol. Soc. Jpn., 61(4), 479-493.\n",
    "<br>https://dx.doi/10.2151/jmsj1965.61.4_479\n",
    "\n",
    "\n",
    "- A. Kasahara (1984). The Linear Response of a Stratified Global Atmosphere to Tropical Thermal Forcing, J. Atmos. Sci., 41(14). 2217--2237.\n",
    "<br><a href='https://doi.org/10.1175/1520-0469(1984)041%3C2217:TLROAS%3E2.0.CO;2' target='_blank'>https://dx.doi/10.1175/1520-0469(1984)041&lt;2217:TLROAS&gt;2.0.CO;2</a>\n",
    "\n",
    "\n",
    "- P. N. Swarztrauber and A. Kasahara (1985). The vector harmonic analysis of Laplace's tidal equations, SIAM J. Sci. Stat. Comput, 6(2), 464-491.\n",
    "<br>https://doi.org/10.1137/0906033\n",
    "\n",
    "\n",
    "- Castanheira, JM, Marques, CAF (2019). The energy cascade associated with daily variability of the North Atlantic Oscillation, Q J R Meteorol Soc., 145: 197-210.\n",
    "<br>https://doi.org/10.1002/qj.3422"
   ]
  },
  {
   "cell_type": "markdown",
   "metadata": {},
   "source": [
    "### Contents\n",
    "\n",
    "[1. Installation](#1.-Installation)\n",
    "\n",
    "[2. Vertical space/time mean profile of temperature from a global dataset](#2.-Vertical-space/time-mean-profile-of-temperature-from-a-global-dataset)\n",
    "\n",
    "[3. Vertical structure equation](#3.-Vertical-structure-equation)\n",
    "\n",
    "[4. Hough vector functions](#4.-Hough-vector-functions)\n",
    "\n",
    "[5. Expansion coefficients](#5.-Expansion-coefficients)\n",
    "\n",
    "&nbsp;&nbsp;&nbsp;&nbsp;[5.1 3-D spectrum of total energy](#5.1-3-D-spectrum-of-total-energy)\n",
    "\n",
    "&nbsp;&nbsp;&nbsp;&nbsp;[5.2 3-D spectrum of energy interactions](#5.2-3-D-spectrum-of-energy-interactions)\n",
    "\n",
    "[6. Appendix (Matlab version)](#6.-Appendix)"
   ]
  },
  {
   "cell_type": "markdown",
   "metadata": {},
   "source": [
    "### 1. Installation\n",
    "<pre>\n",
    "git clone https://github.com/martalmeida/nmf3d.git\n",
    "cd nmf3d\n",
    "python setup.py install\n",
    "</pre>\n",
    "\n",
    "Test data used in this tutorial is available in the nmf3d_data repository:\n",
    "<pre>\n",
    "git clone https://github.com/martalmeida/nmf3d_data.git\n",
    "</pre>"
   ]
  },
  {
   "cell_type": "markdown",
   "metadata": {},
   "source": [
    "### 2. Vertical space/time mean profile of temperature from a global dataset\n",
    "*nmf3d.calcs.profile*\n",
    "\n",
    "The mean profile of temperature is needed for the NMF3D. The nmf3d_data repository\n",
    "contains some ERA-INTERIM temperature files that can be used. These are very low space/time\n",
    "resolution files just for testing."
   ]
  },
  {
   "cell_type": "code",
   "execution_count": 1,
   "metadata": {},
   "outputs": [
    {
     "name": "stdout",
     "output_type": "stream",
     "text": [
      "PHI_ERA_I_1979_2010.txt     1.8K\n",
      "PHI_raw.txt                 0.5K\n",
      "README.md                   0.1K\n",
      "T_01_1978_.nc4              1.4M\n",
      "T_08_1978_.nc4              1.3M\n",
      "T_ERA_I_1979_2010.txt       1.8K\n",
      "u_01_1985_.nc4              1.4M\n",
      "v_01_1985_.nc4              1.5M\n",
      "z_01_1985_.nc4              1.1M\n"
     ]
    }
   ],
   "source": [
    "datafolder='nmf3d_data'\n",
    "f=datafolder+'/*'\n",
    "\n",
    "import os, glob\n",
    "files=glob.glob(f)\n",
    "files.sort()\n",
    "for f in files:\n",
    "    size=os.stat(f).st_size\n",
    "    if size<(1024**2)/3: size='%5.1fK'%(size/1024)\n",
    "    else: size='%5.1fM'%(size/1024**2)\n",
    "\n",
    "    print('%-25s %s'%(os.path.basename(f),size))"
   ]
  },
  {
   "cell_type": "markdown",
   "metadata": {},
   "source": [
    " The profile can be calculated with the function nmf3d.calc.profile which returns the temperature (K) and pressure (Pa)."
   ]
  },
  {
   "cell_type": "code",
   "execution_count": 2,
   "metadata": {},
   "outputs": [
    {
     "data": {
      "image/png": "[encoded data removed]",
      "text/plain": [
       "<Figure size 432x288 with 1 Axes>"
      ]
     },
     "metadata": {
      "needs_background": "light"
     },
     "output_type": "display_data"
    }
   ],
   "source": [
    "import nmf3d\n",
    "\n",
    "Tfiles=glob.glob(datafolder+'/T*.nc4')\n",
    "Tfiles.sort()\n",
    "\n",
    "t,lev_mb=nmf3d.calcs.profile(Tfiles,quiet=1)\n",
    "lev=lev_mb*100 # Pa\n",
    "%matplotlib inline\n",
    "import pylab as pl\n",
    "pl.plot(t,lev)\n",
    "pl.ylabel('Pressure (Pa)')\n",
    "pl.xlabel('Temperature (K)')\n",
    "pl.title('Reference temperature profile')\n",
    "pl.gca().invert_yaxis()"
   ]
  },
  {
   "cell_type": "markdown",
   "metadata": {},
   "source": [
    "In order to be used with other datasets, nmf3d.calcs.profile accepts as input arguments\n",
    "the names of the variables to load (lon, lat, pressure and temperature). The lon and lat\n",
    "can also be refined with splines using the option xmeth and ymeth. Ex.:"
   ]
  },
  {
   "cell_type": "code",
   "execution_count": 3,
   "metadata": {},
   "outputs": [
    {
     "data": {
      "image/png": "[encoded data removed]",
      "text/plain": [
       "<Figure size 432x288 with 1 Axes>"
      ]
     },
     "metadata": {
      "needs_background": "light"
     },
     "output_type": "display_data"
    }
   ],
   "source": [
    "t,lev_mb=nmf3d.calcs.profile(Tfiles,xname='longitude',xmeth='spline',quiet=1)\n",
    "lev=lev_mb*100\n",
    "pl.plot(t,lev)\n",
    "pl.gca().invert_yaxis()"
   ]
  },
  {
   "cell_type": "markdown",
   "metadata": {},
   "source": [
    "nmf3d_data includes a more realistic reference temperature profile (30 years of ERA Interim data with spatial resolution of 1.5):"
   ]
  },
  {
   "cell_type": "code",
   "execution_count": 4,
   "metadata": {},
   "outputs": [
    {
     "data": {
      "image/png": "[encoded data removed]",
      "text/plain": [
       "<Figure size 432x288 with 1 Axes>"
      ]
     },
     "metadata": {
      "needs_background": "light"
     },
     "output_type": "display_data"
    }
   ],
   "source": [
    "f=datafolder+'/T_ERA_I_1979_2010.txt'\n",
    "import numpy as np\n",
    "T,Lev=np.loadtxt(f)\n",
    "pl.plot(T,Lev,label='realistic')\n",
    "pl.plot(t,lev,label='raw')\n",
    "pl.legend()\n",
    "pl.gca().invert_yaxis()\n",
    "pl.ylabel('Pressure (Pa)')\n",
    "pl.xlabel('Temperature (K)');"
   ]
  },
  {
   "cell_type": "markdown",
   "metadata": {},
   "source": [
    "### 3. Vertical structure equation\n",
    "*nmf3d.vertical_structure.vse*\n",
    "\n",
    "The vertical structure is calculated from a reference temperature profile\n",
    "(temperature and the corresponding pressure levels, see above)."
   ]
  },
  {
   "cell_type": "code",
   "execution_count": 5,
   "metadata": {
    "scrolled": true
   },
   "outputs": [
    {
     "name": "stdout",
     "output_type": "stream",
     "text": [
      "saving out_vs_ws0False.nc\n",
      "saving out_vs_ws0True.nc\n"
     ]
    },
    {
     "data": {
      "image/png": "[encoded data removed]",
      "text/plain": [
       "<Figure size 720x216 with 2 Axes>"
      ]
     },
     "metadata": {
      "needs_background": "light"
     },
     "output_type": "display_data"
    }
   ],
   "source": [
    "fig,ax=pl.subplots(1,2)\n",
    "fig.set_size_inches((10,3))\n",
    "\n",
    "Gn,hk,vfileF=nmf3d.vertical_structure.vse(T,Lev,ws0=False)\n",
    "# returns the vertical structure functions, equivalent heights and output file name\n",
    "ax[0].plot(Gn[:4].T);                                    \n",
    "ax[0].legend(range(4))\n",
    "ax[0].set_title('First 4 vertical structure functions, ws!=0')\n",
    "\n",
    "Gn,hk,vfileT=nmf3d.vertical_structure.vse(T,Lev,ws0=True)\n",
    "ax[1].plot(Gn[:4].T);\n",
    "ax[1].legend(range(4))\n",
    "ax[1].set_title('First 4 vertical structure functions, ws=0');"
   ]
  },
  {
   "cell_type": "markdown",
   "metadata": {},
   "source": [
    "The output file (created by default and in netcdf format) includes additional variables like the pressure levels corresponding to the gaussian sigma levels, which can be used to make some plots:"
   ]
  },
  {
   "cell_type": "code",
   "execution_count": 6,
   "metadata": {},
   "outputs": [
    {
     "data": {
      "image/png": "[encoded data removed]",
      "text/plain": [
       "<Figure size 432x288 with 1 Axes>"
      ]
     },
     "metadata": {
      "needs_background": "light"
     },
     "output_type": "display_data"
    }
   ],
   "source": [
    "import netCDF4\n",
    "plev=netCDF4.Dataset(vfileT).variables['plev'][:]\n",
    "pl.semilogy(Gn[:4].T,plev)\n",
    "pl.gca().invert_yaxis()"
   ]
  },
  {
   "cell_type": "markdown",
   "metadata": {},
   "source": [
    "The options regarding the output file creation are:\n",
    "\n",
    " - save, save output to a file, True\n",
    " - format, output file format: npz or netcdf (default)\n",
    "\n",
    "There are other important options:\n",
    "- ws0, pressure vertical velocity zero at surface, False by default\n",
    "- n_leg, number of Legendre polynomials to use, len(data)+20 by default\n",
    "\n",
    "Let us now check the contents of the output netcdf file and then test the format and ws0 options:"
   ]
  },
  {
   "cell_type": "code",
   "execution_count": 7,
   "metadata": {
    "scrolled": true
   },
   "outputs": [
    {
     "name": "stdout",
     "output_type": "stream",
     "text": [
      "\n",
      "# Contents of the NetCDF file\n",
      "   out_vs_ws0True.nc\n",
      "\n",
      ":: Global Attributes:\n",
      "   date           2019-11-22 15:28:27.633799                        \n",
      "   ws0            True                                              \n",
      "   n_leg          57                                                \n",
      "   platform       Linux-3.10.0-957.27.2.el7.x86_64-x86_64-with-cent+\n",
      "   environment    python                                            \n",
      "   version        3.7.5 (default, Oct 25 2019, 15:51:11) [GCC 7.3.0]\n",
      "   version_scipy  1.3.1                                             \n",
      "   version_numpy  1.17.2                                            \n",
      "\n",
      ":: Dimensions:\n",
      "   nk_max     37\n",
      "   GL        113\n",
      "   nlevels0   37\n",
      "\n",
      ":: Variables:\n",
      "                                long_name                         units      shape  \n",
      "   Gn     | Vertical structure functions                       |         | (37, 113) |\n",
      "   hk     | Equivalent heights                                 |         | (37,)     |\n",
      "   gamma0 | Static stability in the sigma system               |         | (113,)    |\n",
      "   plev   | Pressure levels corresponding to the gaussian sig+ | Pa      | (113,)    |\n",
      "   plev0  | Original pressure levels                           | Pa      | (37,)     |\n",
      "   tprof0 | Original temperature profile                       | K       | (37,)     |\n"
     ]
    }
   ],
   "source": [
    "nmf3d.calcs.ncshow(vfileT,Lmax=50)\n",
    "# remove the Lmax option to see te entire variables' long_name"
   ]
  },
  {
   "cell_type": "code",
   "execution_count": 8,
   "metadata": {},
   "outputs": [
    {
     "name": "stdout",
     "output_type": "stream",
     "text": [
      "saving out_vs_ws0True.npz\n",
      "[           inf 6.41440548e+03 2.78902424e+03 1.30045988e+03\n",
      " 6.73503983e+02 4.02637644e+02 2.60347760e+02 1.72641016e+02\n",
      " 1.24818417e+02 9.08828920e+01 6.53845605e+01 4.90581868e+01\n",
      " 3.79207543e+01 2.97765454e+01 2.35242344e+01 1.86113727e+01\n",
      " 1.47376884e+01 1.17108805e+01 9.31077741e+00 7.52973386e+00\n",
      " 6.13734717e+00 5.04756621e+00 4.20547521e+00 3.53577676e+00\n",
      " 3.00131784e+00 2.54732811e+00 2.16539123e+00 1.84416686e+00\n",
      " 1.57499005e+00 1.34774250e+00 1.15765567e+00 9.99025605e-01\n",
      " 8.66841142e-01 7.55206264e-01 6.60981316e-01 5.82052736e-01\n",
      " 5.14712787e-01]\n",
      "['Gn', 'hk', 'gamma0', 'plev', 'tprof0', 'plev0', 'ws0', 'n_leg', 'platform', 'environment', 'version', 'version_scipy', 'version_numpy']\n"
     ]
    }
   ],
   "source": [
    "Gn,hk,fname=nmf3d.vertical_structure.vse(T,Lev,format='npz',ws0=True)\n",
    "print(hk)\n",
    "print(list(np.load(fname)))"
   ]
  },
  {
   "cell_type": "markdown",
   "metadata": {},
   "source": [
    "Note that if ws0 is True, the first hk is infinite, as expected"
   ]
  },
  {
   "cell_type": "markdown",
   "metadata": {},
   "source": [
    "### 4. Hough vector functions\n",
    "*nmf3d.hough_functions.hvf*\n",
    "\n",
    "Hough vector functions as described in Swarztrauber and Kasahara (1985)\n",
    "\n",
    "Part I: The frequencies and the Hough functions are computed for zonal wave number m = 0\n",
    "\n",
    "Part II: The frequencies and the Hough functions are computed for zonal wave numbers m > 0\n",
    "\n",
    "Inputs:\n",
    " - equivalent heights\n",
    " - M, maximum zonal wave number used in the expansion: m=0,1,...,M\n",
    " - nLR, total number of (west) Rossby modes used in the expansion (should be even)\n",
    " - nLG , half the number of Gravity modes used in the expansion (should be even)\n",
    " - latType, latitude type: linear (default, equally spaced) or gaussian\n",
    "  \n",
    "The total number of the Gravity modes will be 2*nLG=nLG(east gravity)+nLG(west gravity)\n",
    "\n",
    "Other important inputs (kargs):\n",
    "  - dlat, latitude spacing if latType is linear (default is 1.5, ie, 121 points) or number of gaussian lats if latType is gaussian (default is 128, corresponding to a spectral truncature of T85)\n",
    "  - save, create file [True]\n",
    "  - format, file format: [nc] or npz"
   ]
  },
  {
   "cell_type": "code",
   "execution_count": 9,
   "metadata": {},
   "outputs": [
    {
     "name": "stdout",
     "output_type": "stream",
     "text": [
      "saving out_vs_ws0True.nc\n",
      "- HVF baroclinic -\n",
      "Part I\n",
      "  - Matrix C\n",
      "  - Matrix D\n",
      "  - Matrix E\n",
      "  - Matrix F\n",
      "  - Coeffs An, Bn, Cn\n",
      "  - Normalized Associated Legendre Functions - M=0\n",
      "  - Normalized Associated Legendre Functions - M=1\n",
      "  - HVF: gravity modes\n",
      "  - HVF: rossby modes\n",
      "End of part I (zonal wave number zero)\n",
      "Part II\n",
      "  1 of 6\n",
      "  - Matrix A\n",
      "  - Matrix B\n",
      "  - selecting freqs and coeffs\n",
      "  - Associated Legendre Functions\n",
      "  - spherical vector harmonics\n",
      "  - HVF: gravity\n",
      "  - HVF: rossby\n",
      "  2 of 6\n",
      "  3 of 6\n",
      "  4 of 6\n",
      "  5 of 6\n",
      "  6 of 6\n",
      "End of part II (zonal wave numbers m>0)\n",
      "\n",
      "- HVF barotropic -\n",
      "Part I\n",
      "End of part I (zonal wave number zero)\n",
      "Part II\n",
      "End of part II (zonal wave numbers m>0)\n",
      "saving out_hvf_M6_nLR8_nLG12_NEH5_dlat6linear_ws0True.nc\n"
     ]
    }
   ],
   "source": [
    "Gn,hk,vfileT=nmf3d.vertical_structure.vse(T,Lev,ws0=True)\n",
    "nk=5 # number of function to keep\n",
    "hvf_dataT,hfileT=nmf3d.hough_functions.hvf(hk[:nk],M=6,nLR=8,nLG=6,dlat=6)\n",
    "\n",
    "# * Important *\n",
    "# dlat was set to 6 because the output file will be used in the\n",
    "# next step together with some ERA-Interim raw data where latitude\n",
    "# spacing is 6 deg."
   ]
  },
  {
   "cell_type": "markdown",
   "metadata": {},
   "source": [
    "Note that the baroclinic and barotropic (when hk[0] is infinite, i.e., ws0 is True in the computation of the vertical structure) modes are stored together. Example without barotropic mode:"
   ]
  },
  {
   "cell_type": "code",
   "execution_count": 10,
   "metadata": {},
   "outputs": [
    {
     "name": "stdout",
     "output_type": "stream",
     "text": [
      "saving out_vs_ws0False.nc\n",
      "- HVF baroclinic -\n",
      "Part I\n",
      "  - Matrix C\n",
      "  - Matrix D\n",
      "  - Matrix E\n",
      "  - Matrix F\n",
      "  - Coeffs An, Bn, Cn\n",
      "  - Normalized Associated Legendre Functions - M=0\n",
      "  - Normalized Associated Legendre Functions - M=1\n",
      "  - HVF: gravity modes\n",
      "  - HVF: rossby modes\n",
      "End of part I (zonal wave number zero)\n",
      "Part II\n",
      "  1 of 6\n",
      "  - Matrix A\n",
      "  - Matrix B\n",
      "  - selecting freqs and coeffs\n",
      "  - Associated Legendre Functions\n",
      "  - spherical vector harmonics\n",
      "  - HVF: gravity\n",
      "  - HVF: rossby\n",
      "  2 of 6\n",
      "  3 of 6\n",
      "  4 of 6\n",
      "  5 of 6\n",
      "  6 of 6\n",
      "End of part II (zonal wave numbers m>0)\n",
      "saving out_hvf_M6_nLR8_nLG12_NEH5_dlat6linear_ws0False.nc\n"
     ]
    }
   ],
   "source": [
    "Gn,hk,vfileF=nmf3d.vertical_structure.vse(T,Lev,ws0=False)\n",
    "hvf_dataF,hfileF=nmf3d.hough_functions.hvf(hk[:nk],M=6,nLR=8,nLG=6,dlat=6)"
   ]
  },
  {
   "cell_type": "markdown",
   "metadata": {},
   "source": [
    "Let us take a look at the saved file contents:"
   ]
  },
  {
   "cell_type": "code",
   "execution_count": 11,
   "metadata": {},
   "outputs": [
    {
     "name": "stdout",
     "output_type": "stream",
     "text": [
      "\n",
      "# Contents of the NetCDF file\n",
      "   out_hvf_M6_nLR8_nLG12_NEH5_dlat6linear_ws0False.nc\n",
      "\n",
      ":: Global Attributes:\n",
      "   date           2019-11-22 15:28:31.472624                                       \n",
      "   platform       Linux-3.10.0-957.27.2.el7.x86_64-x86_64-with-centos-7.6.1810-Core\n",
      "   environment    python                                                           \n",
      "   version        3.7.5 (default, Oct 25 2019, 15:51:11) [GCC 7.3.0]               \n",
      "   version_scipy  1.3.1                                                            \n",
      "   version_numpy  1.17.2                                                           \n",
      "\n",
      ":: Dimensions:\n",
      "   components_uvz                         3\n",
      "   max_zonal_wave_number_and_zonal_mean   7\n",
      "   number_meridional_modes               20\n",
      "   lat                                   31\n",
      "   number_equivalent_heights              5\n",
      "\n",
      ":: Variables:\n",
      "                           long_name                shape      \n",
      "   HOUGHs_UVZ_real | hough functions - real | (3, 7, 20, 5, 31) |\n",
      "   HOUGHs_UVZ_imag | hough functions - imag | (3, 7, 20, 5, 31) |\n",
      "   FREQs           | frequencies            | (7, 20, 5)        |\n"
     ]
    }
   ],
   "source": [
    "nmf3d.calcs.ncshow(hfileF)"
   ]
  },
  {
   "cell_type": "markdown",
   "metadata": {},
   "source": [
    "### 5. Expansion coefficients\n",
    "*nmf3d.expansion_coeffs.calc*\n",
    "\n",
    "Vertical, Fourier and Hough transforms of:\n",
    "\n",
    " - zonal wind (u), meridional wind (v) and geopotential (z) perturbation (from the\n",
    "      reference  geopotential), used for the the 3-D spectrum of total energy\n",
    "      W_nlk\n",
    "      \n",
    "\n",
    " - I1, I2 and J3, used for the 3-D spectrum of energy interactions (kinetic and available pontential energy)\n",
    "     - I1: zonal component of the kinetic energy interaction term (square brakets of eq. A16, ref)\n",
    "     - I2: meridional component of the kinetic energy interaction term (square brakets of eq. A17, ref)\n",
    "     - J3: available potential energy interaction term (square brakets of eq. A18, ref)\n",
    "\n",
    "ref:\n",
    "Castanheira, JM, Marques, CAF (2019). The energy cascade associated with daily variability of the North Atlantic Oscillation, Q J R Meteorol Soc., 145: 197-210. https://doi.org/10.1002/qj.3422\n",
    "\n",
    "inputs:\n",
    "- vfile,  equivalent heights and vertical structure functions file (output file from step [3](#3.-Vertical-structure-equation))\n",
    " \n",
    "- hfile, Hough functions file (output file from step [4](#4.-Hough-vector-functions))\n",
    " \n",
    "- data: dict with fields (u,v,z) or (I1,I2) or (J3). Each entry must also be a dictionary, with fields lon, lat, P (pressure levels) and v (the u, v, z, I1, I2 or J3)\n",
    " \n",
    "The input files vfile and hfile can be netcdf or npz. The function accepts other arguments like the save karg (True by default) and the format (nc or npz). \n",
    "\n",
    "Returns the expansion coefficients (eddies and zonal components combined), as well as saved filename if save is true.\n",
    "\n",
    "#### 5.1 3-D spectrum of total energy\n",
    "\n",
    "#### i) loading data:\n",
    "nmf3d includes an example function to load (u,v,z) data from ERA-Interim. The functions can be easily converted to load data from other datasets. The loading of the data will now be explained using (low space/time resolution) ERA-Interim files present in nmf3d_data."
   ]
  },
  {
   "cell_type": "code",
   "execution_count": 12,
   "metadata": {},
   "outputs": [],
   "source": [
    "import netCDF4\n",
    "fu=datafolder+'/u_01_1985_.nc4'\n",
    "fv=datafolder+'/v_01_1985_.nc4'\n",
    "fz=datafolder+'/z_01_1985_.nc4'\n",
    "\n",
    "data_u={}\n",
    "data_v={}\n",
    "data_z={}\n",
    "\n",
    "# Let us start with u:\n",
    "nc=netCDF4.Dataset(fu)\n",
    "data_u['P']=nc.variables['lev'][:].astype('d')\n",
    "data_u['lon']=nc.variables['lon'][:].astype('d')\n",
    "data_u['lat']=nc.variables['lat'][:][::-1].astype('d') # reverse to have -90:90\n",
    "data_u['v']=nc.variables['var131'][:][:,:,::-1,:].astype('d') # also reverse due to lat\n",
    "nc.close()\n",
    "\n",
    "# do the same thing with v (actually lon, lat and P are only needed inside data_u)\n",
    "nc=netCDF4.Dataset(fv)\n",
    "data_v['v']=nc.variables['var132'][:][:,:,::-1,:].astype('d') \n",
    "nc.close()"
   ]
  },
  {
   "cell_type": "markdown",
   "metadata": {},
   "source": [
    "The geopotential is a bit more complex as the reference profile must be subtracted. The profile can be obtained following step 1. So let us do this first:"
   ]
  },
  {
   "cell_type": "code",
   "execution_count": 13,
   "metadata": {},
   "outputs": [
    {
     "data": {
      "image/png": "[encoded data removed]",
      "text/plain": [
       "<Figure size 432x288 with 1 Axes>"
      ]
     },
     "metadata": {
      "needs_background": "light"
     },
     "output_type": "display_data"
    }
   ],
   "source": [
    "files=datafolder+'/z*'\n",
    "Z,Zlev=nmf3d.calcs.profile(files,xname='lon',yname='lat',zname='lev', quiet=1)\n",
    "pl.plot(Z,Zlev)\n",
    "pl.gca().invert_yaxis()\n",
    "Zref=Z.astype('d') # for later use\n",
    "\n",
    "# we could save this data for future use:\n",
    "#np.savetxt(datafolder+'/PHI_raw.txt',[Zref,Zlev])\n",
    "# but the file is already there!\n",
    "\n",
    "# nmf3d_data also includes a realistic geopotential profile from ERA-Interim:\n",
    "f=datafolder+'/PHI_ERA_I_1979_2010.txt'\n",
    "z_,zlev_=np.loadtxt(f)\n",
    "pl.plot(z_,zlev_,'.');"
   ]
  },
  {
   "cell_type": "markdown",
   "metadata": {},
   "source": [
    "Now let us load the geopotential subtracting the reference. Note that some datasets provide not the geopotential but the geopotential height. In such case it must be divided by *g*."
   ]
  },
  {
   "cell_type": "code",
   "execution_count": 14,
   "metadata": {},
   "outputs": [],
   "source": [
    "# Load geopotential:\n",
    "nc=netCDF4.Dataset(fz)\n",
    "z=nc.variables['var129'][:][:,:,::-1,:].astype('d')\n",
    "nc.close()\n",
    "\n",
    "# convert from geoptential height if needed:\n",
    "# z/=nmf3d.constants.g\n",
    "\n",
    "\n",
    "# subtract the reference profile:\n",
    "for i in range(z.shape[1]): z[:,i,:,:]-=Zref[i]\n",
    "\n",
    "data_z['v']=z"
   ]
  },
  {
   "cell_type": "markdown",
   "metadata": {},
   "source": [
    "Now we join all the data needed in a dictionary"
   ]
  },
  {
   "cell_type": "code",
   "execution_count": 15,
   "metadata": {},
   "outputs": [],
   "source": [
    "data=dict(u=data_u,v=data_v,z=data_z)"
   ]
  },
  {
   "cell_type": "markdown",
   "metadata": {},
   "source": [
    "A similar code is in module load_ERA_I so that loading the data could be done simply as:"
   ]
  },
  {
   "cell_type": "code",
   "execution_count": 16,
   "metadata": {},
   "outputs": [
    {
     "name": "stdout",
     "output_type": "stream",
     "text": [
      "loading u : ....nmf3d_data/u_01_1985_.nc4\n",
      "    - loading var131\n",
      "loading v : ....nmf3d_data/v_01_1985_.nc4\n",
      "    - loading var132\n",
      "loading z : ....nmf3d_data/z_01_1985_.nc4\n",
      "    - loading var129\n",
      "    - subtracting reference\n"
     ]
    }
   ],
   "source": [
    "from nmf3d import load_ERA_I\n",
    "data=load_ERA_I.load(fu,fv,fz,datafolder+'/PHI_raw.txt',height=False)"
   ]
  },
  {
   "cell_type": "markdown",
   "metadata": {
    "collapsed": true
   },
   "source": [
    "#### ii) 3-D spectrum\n",
    "##### 1. ws0 False"
   ]
  },
  {
   "cell_type": "code",
   "execution_count": 17,
   "metadata": {
    "scrolled": true
   },
   "outputs": [
    {
     "name": "stdout",
     "output_type": "stream",
     "text": [
      "- Expansion coefficients -\n",
      " - loading parameters from Hough functions file:\n",
      "    out_hvf_M6_nLR8_nLG12_NEH5_dlat6linear_ws0False.nc\n",
      " - loading vertical structure functions:\n",
      "    out_vs_ws0False.nc\n",
      " - zonal wind - interpolate p to sigma\n",
      " - zonal wind - vertical transform\n",
      " - zonal wind - Fourier transform\n",
      " - meridional wind - interpolate p to sigma\n",
      " - meridional wind - vertical transform\n",
      " - meridional wind - Fourier transform\n",
      " - geopotential - interpolate p to sigma\n",
      " - geopotential - vertical transform\n",
      " - geopotential - Fourier transform\n",
      " - loading Hough vector functions:\n",
      "    out_hvf_M6_nLR8_nLG12_NEH5_dlat6linear_ws0False.nc\n",
      " - computing\n",
      "saving out_ws0_False_w_nlk.nc\n"
     ]
    }
   ],
   "source": [
    "w_nlkF,fsaveF=nmf3d.expansion_coeffs.calc(vfileF,hfileF,data,label='out_ws0_False')"
   ]
  },
  {
   "cell_type": "markdown",
   "metadata": {},
   "source": [
    "An output file was created. Let's check it:"
   ]
  },
  {
   "cell_type": "code",
   "execution_count": 18,
   "metadata": {},
   "outputs": [
    {
     "name": "stdout",
     "output_type": "stream",
     "text": [
      "\n",
      "# Contents of the NetCDF file\n",
      "   out_ws0_False_w_nlk.nc\n",
      "\n",
      ":: Global Attributes:\n",
      "   date           2019-11-22 15:29:22.847531                                       \n",
      "   platform       Linux-3.10.0-957.27.2.el7.x86_64-x86_64-with-centos-7.6.1810-Core\n",
      "   environment    python                                                           \n",
      "   version        3.7.5 (default, Oct 25 2019, 15:51:11) [GCC 7.3.0]               \n",
      "   version_scipy  1.3.1                                                            \n",
      "   version_numpy  1.17.2                                                           \n",
      "\n",
      ":: Dimensions:\n",
      "   number_equivalent_heights   5\n",
      "   max_zonal_wave_number       7\n",
      "   total_meridional_modes     20\n",
      "   time                       31\n",
      "\n",
      ":: Variables:\n",
      "                                            long_name                                    shape     \n",
      "   w_nlk_real | Expansion coefficients of dependent variable vector u, v, z (real) | (5, 7, 20, 31) |\n",
      "   w_nlk_imag | Expansion coefficients of dependent variable vector u, v, z (imag) | (5, 7, 20, 31) |\n"
     ]
    }
   ],
   "source": [
    "nmf3d.calcs.ncshow(fsaveF)"
   ]
  },
  {
   "cell_type": "markdown",
   "metadata": {},
   "source": [
    "##### 2. ws0 True"
   ]
  },
  {
   "cell_type": "code",
   "execution_count": 19,
   "metadata": {},
   "outputs": [
    {
     "name": "stdout",
     "output_type": "stream",
     "text": [
      "- Expansion coefficients -\n",
      " - loading parameters from Hough functions file:\n",
      "    out_hvf_M6_nLR8_nLG12_NEH5_dlat6linear_ws0True.nc\n",
      " - loading vertical structure functions:\n",
      "    out_vs_ws0True.nc\n",
      " - zonal wind - interpolate p to sigma\n",
      " - zonal wind - vertical transform\n",
      " - zonal wind - Fourier transform\n",
      " - meridional wind - interpolate p to sigma\n",
      " - meridional wind - vertical transform\n",
      " - meridional wind - Fourier transform\n",
      " - geopotential - interpolate p to sigma\n",
      " - geopotential - vertical transform\n",
      " - geopotential - Fourier transform\n",
      " - loading Hough vector functions:\n",
      "    out_hvf_M6_nLR8_nLG12_NEH5_dlat6linear_ws0True.nc\n",
      " - computing\n",
      "saving out_ws0_True_w_nlk.nc\n"
     ]
    }
   ],
   "source": [
    "w_nlkT,fsaveT=nmf3d.expansion_coeffs.calc(vfileT,hfileT,data,label='out_ws0_True')"
   ]
  },
  {
   "cell_type": "markdown",
   "metadata": {},
   "source": [
    "#### iii) plots"
   ]
  },
  {
   "cell_type": "code",
   "execution_count": 20,
   "metadata": {},
   "outputs": [
    {
     "data": {
      "image/png": "[encoded data removed]",
      "text/plain": [
       "<Figure size 432x288 with 1 Axes>"
      ]
     },
     "metadata": {
      "needs_background": "light"
     },
     "output_type": "display_data"
    }
   ],
   "source": [
    "w_nlk=w_nlkF\n",
    "nk,nM,nL,nT=w_nlk.shape\n",
    "\n",
    "E0=np.zeros((nk,nL,nT))\n",
    "En=np.zeros((nk,nM-1,nL,nT))\n",
    "\n",
    "for i in range(nk):\n",
    "    E0[i]=1/8*1e5*hk[i]*(w_nlk[i,0]*w_nlk[i,0].conj()).real\n",
    "    En[i]=1/4*1e5*hk[i]*(w_nlk[i,1:]*np.conj(w_nlk[i,1:])).real\n",
    "\n",
    "v=En.mean(3).sum(2).sum(0)\n",
    "pl.plot(v);"
   ]
  },
  {
   "cell_type": "markdown",
   "metadata": {},
   "source": [
    "#### 5.2 3-D spectrum of energy interactions"
   ]
  },
  {
   "cell_type": "code",
   "execution_count": 21,
   "metadata": {},
   "outputs": [],
   "source": [
    "'''\n",
    "data_i1={}\n",
    "data_i2={}\n",
    "data_j3={}\n",
    "\n",
    "P=...\n",
    "lon=...\n",
    "lat=...\n",
    "I1=...\n",
    "I2=...\n",
    "J3=...\n",
    "\n",
    "data_i1=dict(P=P,lon=lon,lat=lat,v=I1)\n",
    "data_i2=dict(P=P,lon=lon,lat=lat,v=I2)\n",
    "data_j3=dict(P=P,lon=lon,lat=lat,v=J3)\n",
    "\n",
    "data_i=dict(I1=data_i1,I2=data_i2}\n",
    "i_nlkF,ifsave=nmf3d.expansion_coeffs.calc(vfileF,hfileF,data_i,label='out_i_ws0_False')\n",
    "            \n",
    "data_j=dict(J3=data_j3)\n",
    "j_nlkF,jfsave=nmf3d.expansion_coeffs.calc(vfileF,hfileF,data_j,label='out_j_ws0_False')\n",
    "''';"
   ]
  },
  {
   "cell_type": "markdown",
   "metadata": {
    "collapsed": true
   },
   "source": [
    "### 6. Appendix\n",
    "##### Matlab version\n",
    "\n",
    "The same results of the previous Python tutorial can be obtained with the Matlab version of code like. In terms of output filenames, the Matlab version also saves netcdf files, but saves/loads mat instead of npz."
   ]
  },
  {
   "cell_type": "code",
   "execution_count": 22,
   "metadata": {},
   "outputs": [],
   "source": [
    "'''\n",
    "% adjust paths: ------------------------------------------------------\n",
    "d='SOME_PATH/nmf3d/'\n",
    "addpath([d 'nmf3d_mat']);\n",
    "datafolder='nmf3d_data/';\n",
    "\n",
    "% vertical structure: ------------------------------------------------\n",
    "f=[datafolder 'T_ERA_I_1979_2010.txt'];\n",
    "a=load(f);\n",
    "T=a(1,:);\n",
    "Lev=a(2,:);\n",
    "[Gn,hk,vfile]=vertical_structure(T,Lev,'ws0',0);\n",
    "\n",
    "% hough functions: ---------------------------------------------------\n",
    "M=6;\n",
    "nLR=8;\n",
    "nLG=6;\n",
    "nk=5; % number of function to keep\n",
    "\n",
    "% ws0=1\n",
    "[Gn,hk,vfileT]=vertical_structure(T,Lev,'ws0',1);\n",
    "[hvf_dataT,hfileT]=hough_functions(hk(1:nk),M,nLR,nLG,'linear','dlat',6);\n",
    "\n",
    "% ws0=0\n",
    "[Gn,hk,vfileF]=vertical_structure(T,Lev,'ws0',0);\n",
    "[hvf_dataF,hfileF]=hough_functions(hk(1:nk),M,nLR,nLG,'linear','dlat',6);\n",
    "\n",
    "% Expansion coefficients: --------------------------------------------\n",
    "% 3-D spectrum of total energy W_nlk\n",
    "fu=[datafolder 'u_01_1979_.nc4'];\n",
    "fv=[datafolder 'v_01_1979_.nc4'];\n",
    "fz=[datafolder 'z_01_1979_.nc4'];\n",
    "fzref=[datafolder 'PHI_raw.txt'];\n",
    "height=0;\n",
    "data=load_ERA_I(fu,fv,fz,fzref,height);\n",
    "\n",
    "% ws0=1\n",
    "[w_nlk,fsave]=expansion_coeffs(vfileT,hfileT,data,'label','out_ws0_True');\n",
    "\n",
    "% ws0=0\n",
    "[w_nlk,fsave]=expansion_coeffs(vfileF,hfileF,data,'label','out_ws0_False');\n",
    "\n",
    "\n",
    "for i=1:nk\n",
    "    E0(i,1,:,:)=1/8*1e5*hk(i)*(w_nlk(i,1,:,:).*conj(w_nlk(i,1,:,:)));\n",
    "    En(i,:,:,:)=1/4*1e5*hk(i)*(w_nlk(i,2:end,:,:).*conj(w_nlk(i,2:end,:,:)));\n",
    "end\n",
    "\n",
    "\n",
    "% 3-D spectrum of energy interactions\n",
    "data_i1=struct;\n",
    "data_i1.lon=lon;\n",
    "data_i1.lat=lat;\n",
    "data_i1.P=P;\n",
    "data_i1.v=...\n",
    "\n",
    "data_i2=struct;\n",
    "data_i2.lon=lon;\n",
    "data_i2.lat=lat;\n",
    "data_i2.P=P;\n",
    "data_i2.v=...\n",
    "\n",
    "data_j3=struct;\n",
    "data_j3.lon=lon;\n",
    "data_j3.lat=lat;\n",
    "data_j3.P=P;\n",
    "data_j3.v=...\n",
    "\n",
    "data_i=struct;\n",
    "data_i.I1=data_i1;\n",
    "data_i.I2=data_i2;\n",
    "[i_nlk,ifsave]=expansion_coeffs(vfileT,hfileT,data_i,'label','out_i_ws0_True');\n",
    "\n",
    "data_j=struct;\n",
    "data_j.J3=data_j3;\n",
    "[j_nlk,jfsave]=expansion_coeffs(vfileT,hfileT,data_j,'label','out_j_ws0_True');\n",
    "''';"
   ]
  }
 ],
 "metadata": {
  "kernelspec": {
   "display_name": "Python 3",
   "language": "python",
   "name": "python3"
  },
  "language_info": {
   "codemirror_mode": {
    "name": "ipython",
    "version": 3
   },
   "file_extension": ".py",
   "mimetype": "text/x-python",
   "name": "python",
   "nbconvert_exporter": "python",
   "pygments_lexer": "ipython3",
   "version": "3.7.5"
  }
 },
 "nbformat": 4,
 "nbformat_minor": 2
}
